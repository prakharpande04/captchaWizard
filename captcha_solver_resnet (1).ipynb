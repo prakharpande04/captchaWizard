{
  "cells": [
    {
      "cell_type": "markdown",
      "id": "025fae52",
      "metadata": {
        "papermill": {
          "duration": 0.005611,
          "end_time": "2024-12-30T11:10:37.388286",
          "exception": false,
          "start_time": "2024-12-30T11:10:37.382675",
          "status": "completed"
        },
        "tags": [],
        "id": "025fae52"
      },
      "source": [
        "# Importing Essential Libraries"
      ]
    },
    {
      "cell_type": "code",
      "execution_count": null,
      "id": "02a69ab1",
      "metadata": {
        "_cell_guid": "b1076dfc-b9ad-4769-8c92-a6c4dae69d19",
        "_uuid": "8f2839f25d086af736a60e9eeb907d3b93b6e0e5",
        "execution": {
          "iopub.execute_input": "2024-12-30T11:10:37.398943Z",
          "iopub.status.busy": "2024-12-30T11:10:37.398627Z",
          "iopub.status.idle": "2024-12-30T11:10:45.658047Z",
          "shell.execute_reply": "2024-12-30T11:10:45.657305Z"
        },
        "papermill": {
          "duration": 8.266567,
          "end_time": "2024-12-30T11:10:45.659729",
          "exception": false,
          "start_time": "2024-12-30T11:10:37.393162",
          "status": "completed"
        },
        "tags": [],
        "id": "02a69ab1"
      },
      "outputs": [],
      "source": [
        "import tensorflow as tf\n",
        "import pandas as pd\n",
        "import numpy as np\n",
        "import matplotlib.pyplot as plt\n",
        "from PIL import Image\n",
        "from tensorflow.keras.applications import ResNet50\n",
        "from tensorflow.keras import layers\n",
        "from tensorflow.keras import Model, Input"
      ]
    },
    {
      "cell_type": "code",
      "source": [
        "import kagglehub\n",
        "\n",
        "# Download latest version\n",
        "path = kagglehub.dataset_download(\"huthayfahodeb/captcha-dataset\")\n",
        "\n",
        "print(\"Path to dataset files:\", path)"
      ],
      "metadata": {
        "colab": {
          "base_uri": "https://localhost:8080/"
        },
        "id": "DftQRcLKlFwQ",
        "outputId": "484129b9-614a-402f-93a0-0f0af7613e56"
      },
      "id": "DftQRcLKlFwQ",
      "execution_count": null,
      "outputs": [
        {
          "output_type": "stream",
          "name": "stdout",
          "text": [
            "Path to dataset files: /root/.cache/kagglehub/datasets/huthayfahodeb/captcha-dataset/versions/2\n"
          ]
        }
      ]
    },
    {
      "cell_type": "code",
      "source": [
        "ls /root/.cache/kagglehub/datasets/huthayfahodeb/captcha-dataset/versions/2/captcha_data.csv"
      ],
      "metadata": {
        "colab": {
          "base_uri": "https://localhost:8080/"
        },
        "id": "jDcIyy7KlRWc",
        "outputId": "968178e3-3365-4a14-d9da-5751e2cd96d6"
      },
      "id": "jDcIyy7KlRWc",
      "execution_count": null,
      "outputs": [
        {
          "output_type": "stream",
          "name": "stdout",
          "text": [
            "/root/.cache/kagglehub/datasets/huthayfahodeb/captcha-dataset/versions/2/captcha_data.csv\n"
          ]
        }
      ]
    },
    {
      "cell_type": "markdown",
      "id": "d6d5a741",
      "metadata": {
        "papermill": {
          "duration": 0.004833,
          "end_time": "2024-12-30T11:10:45.669913",
          "exception": false,
          "start_time": "2024-12-30T11:10:45.665080",
          "status": "completed"
        },
        "tags": [],
        "id": "d6d5a741"
      },
      "source": [
        "# Loads CAPTCHA dataset"
      ]
    },
    {
      "cell_type": "code",
      "execution_count": null,
      "id": "8e8bb049",
      "metadata": {
        "execution": {
          "iopub.execute_input": "2024-12-30T11:10:45.681123Z",
          "iopub.status.busy": "2024-12-30T11:10:45.680548Z",
          "iopub.status.idle": "2024-12-30T11:10:45.727220Z",
          "shell.execute_reply": "2024-12-30T11:10:45.726503Z"
        },
        "papermill": {
          "duration": 0.054052,
          "end_time": "2024-12-30T11:10:45.728835",
          "exception": false,
          "start_time": "2024-12-30T11:10:45.674783",
          "status": "completed"
        },
        "tags": [],
        "id": "8e8bb049"
      },
      "outputs": [],
      "source": [
        "df = pd.read_table('/root/.cache/kagglehub/datasets/huthayfahodeb/captcha-dataset/versions/2/captcha_data.csv', sep=',', dtype={'solution': str})"
      ]
    },
    {
      "cell_type": "code",
      "execution_count": null,
      "id": "e68c4f29",
      "metadata": {
        "execution": {
          "iopub.execute_input": "2024-12-30T11:10:45.740471Z",
          "iopub.status.busy": "2024-12-30T11:10:45.740161Z",
          "iopub.status.idle": "2024-12-30T11:10:45.753992Z",
          "shell.execute_reply": "2024-12-30T11:10:45.753182Z"
        },
        "papermill": {
          "duration": 0.020843,
          "end_time": "2024-12-30T11:10:45.755397",
          "exception": false,
          "start_time": "2024-12-30T11:10:45.734554",
          "status": "completed"
        },
        "tags": [],
        "colab": {
          "base_uri": "https://localhost:8080/",
          "height": 206
        },
        "id": "e68c4f29",
        "outputId": "a9d18275-fbd7-49a9-d089-c398ab1a562b"
      },
      "outputs": [
        {
          "output_type": "execute_result",
          "data": {
            "text/plain": [
              "                       image_path solution\n",
              "0  train-images/image_train_1.png   000073\n",
              "1  train-images/image_train_2.png   000372\n",
              "2  train-images/image_train_3.png   000454\n",
              "3  train-images/image_train_4.png   000634\n",
              "4  train-images/image_train_5.png   000716"
            ],
            "text/html": [
              "\n",
              "  <div id=\"df-2b276b50-7101-4dbc-b9fb-799b2d6e952e\" class=\"colab-df-container\">\n",
              "    <div>\n",
              "<style scoped>\n",
              "    .dataframe tbody tr th:only-of-type {\n",
              "        vertical-align: middle;\n",
              "    }\n",
              "\n",
              "    .dataframe tbody tr th {\n",
              "        vertical-align: top;\n",
              "    }\n",
              "\n",
              "    .dataframe thead th {\n",
              "        text-align: right;\n",
              "    }\n",
              "</style>\n",
              "<table border=\"1\" class=\"dataframe\">\n",
              "  <thead>\n",
              "    <tr style=\"text-align: right;\">\n",
              "      <th></th>\n",
              "      <th>image_path</th>\n",
              "      <th>solution</th>\n",
              "    </tr>\n",
              "  </thead>\n",
              "  <tbody>\n",
              "    <tr>\n",
              "      <th>0</th>\n",
              "      <td>train-images/image_train_1.png</td>\n",
              "      <td>000073</td>\n",
              "    </tr>\n",
              "    <tr>\n",
              "      <th>1</th>\n",
              "      <td>train-images/image_train_2.png</td>\n",
              "      <td>000372</td>\n",
              "    </tr>\n",
              "    <tr>\n",
              "      <th>2</th>\n",
              "      <td>train-images/image_train_3.png</td>\n",
              "      <td>000454</td>\n",
              "    </tr>\n",
              "    <tr>\n",
              "      <th>3</th>\n",
              "      <td>train-images/image_train_4.png</td>\n",
              "      <td>000634</td>\n",
              "    </tr>\n",
              "    <tr>\n",
              "      <th>4</th>\n",
              "      <td>train-images/image_train_5.png</td>\n",
              "      <td>000716</td>\n",
              "    </tr>\n",
              "  </tbody>\n",
              "</table>\n",
              "</div>\n",
              "    <div class=\"colab-df-buttons\">\n",
              "\n",
              "  <div class=\"colab-df-container\">\n",
              "    <button class=\"colab-df-convert\" onclick=\"convertToInteractive('df-2b276b50-7101-4dbc-b9fb-799b2d6e952e')\"\n",
              "            title=\"Convert this dataframe to an interactive table.\"\n",
              "            style=\"display:none;\">\n",
              "\n",
              "  <svg xmlns=\"http://www.w3.org/2000/svg\" height=\"24px\" viewBox=\"0 -960 960 960\">\n",
              "    <path d=\"M120-120v-720h720v720H120Zm60-500h600v-160H180v160Zm220 220h160v-160H400v160Zm0 220h160v-160H400v160ZM180-400h160v-160H180v160Zm440 0h160v-160H620v160ZM180-180h160v-160H180v160Zm440 0h160v-160H620v160Z\"/>\n",
              "  </svg>\n",
              "    </button>\n",
              "\n",
              "  <style>\n",
              "    .colab-df-container {\n",
              "      display:flex;\n",
              "      gap: 12px;\n",
              "    }\n",
              "\n",
              "    .colab-df-convert {\n",
              "      background-color: #E8F0FE;\n",
              "      border: none;\n",
              "      border-radius: 50%;\n",
              "      cursor: pointer;\n",
              "      display: none;\n",
              "      fill: #1967D2;\n",
              "      height: 32px;\n",
              "      padding: 0 0 0 0;\n",
              "      width: 32px;\n",
              "    }\n",
              "\n",
              "    .colab-df-convert:hover {\n",
              "      background-color: #E2EBFA;\n",
              "      box-shadow: 0px 1px 2px rgba(60, 64, 67, 0.3), 0px 1px 3px 1px rgba(60, 64, 67, 0.15);\n",
              "      fill: #174EA6;\n",
              "    }\n",
              "\n",
              "    .colab-df-buttons div {\n",
              "      margin-bottom: 4px;\n",
              "    }\n",
              "\n",
              "    [theme=dark] .colab-df-convert {\n",
              "      background-color: #3B4455;\n",
              "      fill: #D2E3FC;\n",
              "    }\n",
              "\n",
              "    [theme=dark] .colab-df-convert:hover {\n",
              "      background-color: #434B5C;\n",
              "      box-shadow: 0px 1px 3px 1px rgba(0, 0, 0, 0.15);\n",
              "      filter: drop-shadow(0px 1px 2px rgba(0, 0, 0, 0.3));\n",
              "      fill: #FFFFFF;\n",
              "    }\n",
              "  </style>\n",
              "\n",
              "    <script>\n",
              "      const buttonEl =\n",
              "        document.querySelector('#df-2b276b50-7101-4dbc-b9fb-799b2d6e952e button.colab-df-convert');\n",
              "      buttonEl.style.display =\n",
              "        google.colab.kernel.accessAllowed ? 'block' : 'none';\n",
              "\n",
              "      async function convertToInteractive(key) {\n",
              "        const element = document.querySelector('#df-2b276b50-7101-4dbc-b9fb-799b2d6e952e');\n",
              "        const dataTable =\n",
              "          await google.colab.kernel.invokeFunction('convertToInteractive',\n",
              "                                                    [key], {});\n",
              "        if (!dataTable) return;\n",
              "\n",
              "        const docLinkHtml = 'Like what you see? Visit the ' +\n",
              "          '<a target=\"_blank\" href=https://colab.research.google.com/notebooks/data_table.ipynb>data table notebook</a>'\n",
              "          + ' to learn more about interactive tables.';\n",
              "        element.innerHTML = '';\n",
              "        dataTable['output_type'] = 'display_data';\n",
              "        await google.colab.output.renderOutput(dataTable, element);\n",
              "        const docLink = document.createElement('div');\n",
              "        docLink.innerHTML = docLinkHtml;\n",
              "        element.appendChild(docLink);\n",
              "      }\n",
              "    </script>\n",
              "  </div>\n",
              "\n",
              "\n",
              "<div id=\"df-233ce7ad-0a29-435b-8f88-d20ec7431b19\">\n",
              "  <button class=\"colab-df-quickchart\" onclick=\"quickchart('df-233ce7ad-0a29-435b-8f88-d20ec7431b19')\"\n",
              "            title=\"Suggest charts\"\n",
              "            style=\"display:none;\">\n",
              "\n",
              "<svg xmlns=\"http://www.w3.org/2000/svg\" height=\"24px\"viewBox=\"0 0 24 24\"\n",
              "     width=\"24px\">\n",
              "    <g>\n",
              "        <path d=\"M19 3H5c-1.1 0-2 .9-2 2v14c0 1.1.9 2 2 2h14c1.1 0 2-.9 2-2V5c0-1.1-.9-2-2-2zM9 17H7v-7h2v7zm4 0h-2V7h2v10zm4 0h-2v-4h2v4z\"/>\n",
              "    </g>\n",
              "</svg>\n",
              "  </button>\n",
              "\n",
              "<style>\n",
              "  .colab-df-quickchart {\n",
              "      --bg-color: #E8F0FE;\n",
              "      --fill-color: #1967D2;\n",
              "      --hover-bg-color: #E2EBFA;\n",
              "      --hover-fill-color: #174EA6;\n",
              "      --disabled-fill-color: #AAA;\n",
              "      --disabled-bg-color: #DDD;\n",
              "  }\n",
              "\n",
              "  [theme=dark] .colab-df-quickchart {\n",
              "      --bg-color: #3B4455;\n",
              "      --fill-color: #D2E3FC;\n",
              "      --hover-bg-color: #434B5C;\n",
              "      --hover-fill-color: #FFFFFF;\n",
              "      --disabled-bg-color: #3B4455;\n",
              "      --disabled-fill-color: #666;\n",
              "  }\n",
              "\n",
              "  .colab-df-quickchart {\n",
              "    background-color: var(--bg-color);\n",
              "    border: none;\n",
              "    border-radius: 50%;\n",
              "    cursor: pointer;\n",
              "    display: none;\n",
              "    fill: var(--fill-color);\n",
              "    height: 32px;\n",
              "    padding: 0;\n",
              "    width: 32px;\n",
              "  }\n",
              "\n",
              "  .colab-df-quickchart:hover {\n",
              "    background-color: var(--hover-bg-color);\n",
              "    box-shadow: 0 1px 2px rgba(60, 64, 67, 0.3), 0 1px 3px 1px rgba(60, 64, 67, 0.15);\n",
              "    fill: var(--button-hover-fill-color);\n",
              "  }\n",
              "\n",
              "  .colab-df-quickchart-complete:disabled,\n",
              "  .colab-df-quickchart-complete:disabled:hover {\n",
              "    background-color: var(--disabled-bg-color);\n",
              "    fill: var(--disabled-fill-color);\n",
              "    box-shadow: none;\n",
              "  }\n",
              "\n",
              "  .colab-df-spinner {\n",
              "    border: 2px solid var(--fill-color);\n",
              "    border-color: transparent;\n",
              "    border-bottom-color: var(--fill-color);\n",
              "    animation:\n",
              "      spin 1s steps(1) infinite;\n",
              "  }\n",
              "\n",
              "  @keyframes spin {\n",
              "    0% {\n",
              "      border-color: transparent;\n",
              "      border-bottom-color: var(--fill-color);\n",
              "      border-left-color: var(--fill-color);\n",
              "    }\n",
              "    20% {\n",
              "      border-color: transparent;\n",
              "      border-left-color: var(--fill-color);\n",
              "      border-top-color: var(--fill-color);\n",
              "    }\n",
              "    30% {\n",
              "      border-color: transparent;\n",
              "      border-left-color: var(--fill-color);\n",
              "      border-top-color: var(--fill-color);\n",
              "      border-right-color: var(--fill-color);\n",
              "    }\n",
              "    40% {\n",
              "      border-color: transparent;\n",
              "      border-right-color: var(--fill-color);\n",
              "      border-top-color: var(--fill-color);\n",
              "    }\n",
              "    60% {\n",
              "      border-color: transparent;\n",
              "      border-right-color: var(--fill-color);\n",
              "    }\n",
              "    80% {\n",
              "      border-color: transparent;\n",
              "      border-right-color: var(--fill-color);\n",
              "      border-bottom-color: var(--fill-color);\n",
              "    }\n",
              "    90% {\n",
              "      border-color: transparent;\n",
              "      border-bottom-color: var(--fill-color);\n",
              "    }\n",
              "  }\n",
              "</style>\n",
              "\n",
              "  <script>\n",
              "    async function quickchart(key) {\n",
              "      const quickchartButtonEl =\n",
              "        document.querySelector('#' + key + ' button');\n",
              "      quickchartButtonEl.disabled = true;  // To prevent multiple clicks.\n",
              "      quickchartButtonEl.classList.add('colab-df-spinner');\n",
              "      try {\n",
              "        const charts = await google.colab.kernel.invokeFunction(\n",
              "            'suggestCharts', [key], {});\n",
              "      } catch (error) {\n",
              "        console.error('Error during call to suggestCharts:', error);\n",
              "      }\n",
              "      quickchartButtonEl.classList.remove('colab-df-spinner');\n",
              "      quickchartButtonEl.classList.add('colab-df-quickchart-complete');\n",
              "    }\n",
              "    (() => {\n",
              "      let quickchartButtonEl =\n",
              "        document.querySelector('#df-233ce7ad-0a29-435b-8f88-d20ec7431b19 button');\n",
              "      quickchartButtonEl.style.display =\n",
              "        google.colab.kernel.accessAllowed ? 'block' : 'none';\n",
              "    })();\n",
              "  </script>\n",
              "</div>\n",
              "\n",
              "    </div>\n",
              "  </div>\n"
            ],
            "application/vnd.google.colaboratory.intrinsic+json": {
              "type": "dataframe",
              "variable_name": "df",
              "summary": "{\n  \"name\": \"df\",\n  \"rows\": 10000,\n  \"fields\": [\n    {\n      \"column\": \"image_path\",\n      \"properties\": {\n        \"dtype\": \"string\",\n        \"num_unique_values\": 10000,\n        \"samples\": [\n          \"validation-images/image_validation_253.png\",\n          \"train-images/image_train_4685.png\",\n          \"train-images/image_train_1732.png\"\n        ],\n        \"semantic_type\": \"\",\n        \"description\": \"\"\n      }\n    },\n    {\n      \"column\": \"solution\",\n      \"properties\": {\n        \"dtype\": \"string\",\n        \"num_unique_values\": 9945,\n        \"samples\": [\n          \"404593\",\n          \"244977\",\n          \"681485\"\n        ],\n        \"semantic_type\": \"\",\n        \"description\": \"\"\n      }\n    }\n  ]\n}"
            }
          },
          "metadata": {},
          "execution_count": 5
        }
      ],
      "source": [
        "df.head()"
      ]
    },
    {
      "cell_type": "code",
      "execution_count": null,
      "id": "28d66ec9",
      "metadata": {
        "execution": {
          "iopub.execute_input": "2024-12-30T11:10:45.765729Z",
          "iopub.status.busy": "2024-12-30T11:10:45.765482Z",
          "iopub.status.idle": "2024-12-30T11:10:45.770900Z",
          "shell.execute_reply": "2024-12-30T11:10:45.770118Z"
        },
        "papermill": {
          "duration": 0.011708,
          "end_time": "2024-12-30T11:10:45.772061",
          "exception": false,
          "start_time": "2024-12-30T11:10:45.760353",
          "status": "completed"
        },
        "tags": [],
        "colab": {
          "base_uri": "https://localhost:8080/"
        },
        "id": "28d66ec9",
        "outputId": "8128924d-0a87-4c1b-b607-6b4febbc83dd"
      },
      "outputs": [
        {
          "output_type": "execute_result",
          "data": {
            "text/plain": [
              "Index(['image_path', 'solution'], dtype='object')"
            ]
          },
          "metadata": {},
          "execution_count": 6
        }
      ],
      "source": [
        "df.columns"
      ]
    },
    {
      "cell_type": "code",
      "execution_count": null,
      "id": "b08856a3",
      "metadata": {
        "execution": {
          "iopub.execute_input": "2024-12-30T11:10:45.782149Z",
          "iopub.status.busy": "2024-12-30T11:10:45.781920Z",
          "iopub.status.idle": "2024-12-30T11:10:45.786733Z",
          "shell.execute_reply": "2024-12-30T11:10:45.786139Z"
        },
        "papermill": {
          "duration": 0.011153,
          "end_time": "2024-12-30T11:10:45.787970",
          "exception": false,
          "start_time": "2024-12-30T11:10:45.776817",
          "status": "completed"
        },
        "tags": [],
        "colab": {
          "base_uri": "https://localhost:8080/",
          "height": 147
        },
        "id": "b08856a3",
        "outputId": "aa3f202f-a8b5-4d97-8b6d-63e47d66d724"
      },
      "outputs": [
        {
          "output_type": "execute_result",
          "data": {
            "text/plain": [
              "image_path    object\n",
              "solution      object\n",
              "dtype: object"
            ],
            "text/html": [
              "<div>\n",
              "<style scoped>\n",
              "    .dataframe tbody tr th:only-of-type {\n",
              "        vertical-align: middle;\n",
              "    }\n",
              "\n",
              "    .dataframe tbody tr th {\n",
              "        vertical-align: top;\n",
              "    }\n",
              "\n",
              "    .dataframe thead th {\n",
              "        text-align: right;\n",
              "    }\n",
              "</style>\n",
              "<table border=\"1\" class=\"dataframe\">\n",
              "  <thead>\n",
              "    <tr style=\"text-align: right;\">\n",
              "      <th></th>\n",
              "      <th>0</th>\n",
              "    </tr>\n",
              "  </thead>\n",
              "  <tbody>\n",
              "    <tr>\n",
              "      <th>image_path</th>\n",
              "      <td>object</td>\n",
              "    </tr>\n",
              "    <tr>\n",
              "      <th>solution</th>\n",
              "      <td>object</td>\n",
              "    </tr>\n",
              "  </tbody>\n",
              "</table>\n",
              "</div><br><label><b>dtype:</b> object</label>"
            ]
          },
          "metadata": {},
          "execution_count": 7
        }
      ],
      "source": [
        "df.dtypes"
      ]
    },
    {
      "cell_type": "markdown",
      "id": "8769ad52",
      "metadata": {
        "papermill": {
          "duration": 0.004555,
          "end_time": "2024-12-30T11:10:45.797397",
          "exception": false,
          "start_time": "2024-12-30T11:10:45.792842",
          "status": "completed"
        },
        "tags": [],
        "id": "8769ad52"
      },
      "source": [
        "# Preprocesses solutions and splits dataset into train, test, and validation sets."
      ]
    },
    {
      "cell_type": "code",
      "execution_count": null,
      "id": "4a7fa992",
      "metadata": {
        "execution": {
          "iopub.execute_input": "2024-12-30T11:10:45.807694Z",
          "iopub.status.busy": "2024-12-30T11:10:45.807421Z",
          "iopub.status.idle": "2024-12-30T11:10:45.810772Z",
          "shell.execute_reply": "2024-12-30T11:10:45.810133Z"
        },
        "papermill": {
          "duration": 0.009884,
          "end_time": "2024-12-30T11:10:45.811926",
          "exception": false,
          "start_time": "2024-12-30T11:10:45.802042",
          "status": "completed"
        },
        "tags": [],
        "id": "4a7fa992"
      },
      "outputs": [],
      "source": [
        "def preprocess_solution(solution):\n",
        "    return np.array([int(char) for char in solution], dtype=np.float32)"
      ]
    },
    {
      "cell_type": "code",
      "execution_count": null,
      "id": "9ecff9db",
      "metadata": {
        "execution": {
          "iopub.execute_input": "2024-12-30T11:10:45.822635Z",
          "iopub.status.busy": "2024-12-30T11:10:45.822425Z",
          "iopub.status.idle": "2024-12-30T11:10:45.838073Z",
          "shell.execute_reply": "2024-12-30T11:10:45.837262Z"
        },
        "papermill": {
          "duration": 0.022584,
          "end_time": "2024-12-30T11:10:45.839449",
          "exception": false,
          "start_time": "2024-12-30T11:10:45.816865",
          "status": "completed"
        },
        "tags": [],
        "id": "9ecff9db"
      },
      "outputs": [],
      "source": [
        "train_df = df[df['image_path'].str.startswith('train-images/')]\n",
        "test_df = df[df['image_path'].str.startswith('test-images/')]\n",
        "val_df = df[df['image_path'].str.startswith('validation-images/')]"
      ]
    },
    {
      "cell_type": "code",
      "execution_count": null,
      "id": "48dfc9cb",
      "metadata": {
        "execution": {
          "iopub.execute_input": "2024-12-30T11:10:45.850332Z",
          "iopub.status.busy": "2024-12-30T11:10:45.850061Z",
          "iopub.status.idle": "2024-12-30T11:10:45.856877Z",
          "shell.execute_reply": "2024-12-30T11:10:45.856176Z"
        },
        "papermill": {
          "duration": 0.013795,
          "end_time": "2024-12-30T11:10:45.858180",
          "exception": false,
          "start_time": "2024-12-30T11:10:45.844385",
          "status": "completed"
        },
        "tags": [],
        "colab": {
          "base_uri": "https://localhost:8080/",
          "height": 206
        },
        "id": "48dfc9cb",
        "outputId": "e24c1926-efa6-439f-8d4d-79295b43a686"
      },
      "outputs": [
        {
          "output_type": "execute_result",
          "data": {
            "text/plain": [
              "                        image_path solution\n",
              "8000  test-images/image_test_1.png   001251\n",
              "8001  test-images/image_test_2.png   001335\n",
              "8002  test-images/image_test_3.png   002402\n",
              "8003  test-images/image_test_4.png   002769\n",
              "8004  test-images/image_test_5.png   002821"
            ],
            "text/html": [
              "\n",
              "  <div id=\"df-902fc4a1-d72b-4588-9e45-b801bf218fa7\" class=\"colab-df-container\">\n",
              "    <div>\n",
              "<style scoped>\n",
              "    .dataframe tbody tr th:only-of-type {\n",
              "        vertical-align: middle;\n",
              "    }\n",
              "\n",
              "    .dataframe tbody tr th {\n",
              "        vertical-align: top;\n",
              "    }\n",
              "\n",
              "    .dataframe thead th {\n",
              "        text-align: right;\n",
              "    }\n",
              "</style>\n",
              "<table border=\"1\" class=\"dataframe\">\n",
              "  <thead>\n",
              "    <tr style=\"text-align: right;\">\n",
              "      <th></th>\n",
              "      <th>image_path</th>\n",
              "      <th>solution</th>\n",
              "    </tr>\n",
              "  </thead>\n",
              "  <tbody>\n",
              "    <tr>\n",
              "      <th>8000</th>\n",
              "      <td>test-images/image_test_1.png</td>\n",
              "      <td>001251</td>\n",
              "    </tr>\n",
              "    <tr>\n",
              "      <th>8001</th>\n",
              "      <td>test-images/image_test_2.png</td>\n",
              "      <td>001335</td>\n",
              "    </tr>\n",
              "    <tr>\n",
              "      <th>8002</th>\n",
              "      <td>test-images/image_test_3.png</td>\n",
              "      <td>002402</td>\n",
              "    </tr>\n",
              "    <tr>\n",
              "      <th>8003</th>\n",
              "      <td>test-images/image_test_4.png</td>\n",
              "      <td>002769</td>\n",
              "    </tr>\n",
              "    <tr>\n",
              "      <th>8004</th>\n",
              "      <td>test-images/image_test_5.png</td>\n",
              "      <td>002821</td>\n",
              "    </tr>\n",
              "  </tbody>\n",
              "</table>\n",
              "</div>\n",
              "    <div class=\"colab-df-buttons\">\n",
              "\n",
              "  <div class=\"colab-df-container\">\n",
              "    <button class=\"colab-df-convert\" onclick=\"convertToInteractive('df-902fc4a1-d72b-4588-9e45-b801bf218fa7')\"\n",
              "            title=\"Convert this dataframe to an interactive table.\"\n",
              "            style=\"display:none;\">\n",
              "\n",
              "  <svg xmlns=\"http://www.w3.org/2000/svg\" height=\"24px\" viewBox=\"0 -960 960 960\">\n",
              "    <path d=\"M120-120v-720h720v720H120Zm60-500h600v-160H180v160Zm220 220h160v-160H400v160Zm0 220h160v-160H400v160ZM180-400h160v-160H180v160Zm440 0h160v-160H620v160ZM180-180h160v-160H180v160Zm440 0h160v-160H620v160Z\"/>\n",
              "  </svg>\n",
              "    </button>\n",
              "\n",
              "  <style>\n",
              "    .colab-df-container {\n",
              "      display:flex;\n",
              "      gap: 12px;\n",
              "    }\n",
              "\n",
              "    .colab-df-convert {\n",
              "      background-color: #E8F0FE;\n",
              "      border: none;\n",
              "      border-radius: 50%;\n",
              "      cursor: pointer;\n",
              "      display: none;\n",
              "      fill: #1967D2;\n",
              "      height: 32px;\n",
              "      padding: 0 0 0 0;\n",
              "      width: 32px;\n",
              "    }\n",
              "\n",
              "    .colab-df-convert:hover {\n",
              "      background-color: #E2EBFA;\n",
              "      box-shadow: 0px 1px 2px rgba(60, 64, 67, 0.3), 0px 1px 3px 1px rgba(60, 64, 67, 0.15);\n",
              "      fill: #174EA6;\n",
              "    }\n",
              "\n",
              "    .colab-df-buttons div {\n",
              "      margin-bottom: 4px;\n",
              "    }\n",
              "\n",
              "    [theme=dark] .colab-df-convert {\n",
              "      background-color: #3B4455;\n",
              "      fill: #D2E3FC;\n",
              "    }\n",
              "\n",
              "    [theme=dark] .colab-df-convert:hover {\n",
              "      background-color: #434B5C;\n",
              "      box-shadow: 0px 1px 3px 1px rgba(0, 0, 0, 0.15);\n",
              "      filter: drop-shadow(0px 1px 2px rgba(0, 0, 0, 0.3));\n",
              "      fill: #FFFFFF;\n",
              "    }\n",
              "  </style>\n",
              "\n",
              "    <script>\n",
              "      const buttonEl =\n",
              "        document.querySelector('#df-902fc4a1-d72b-4588-9e45-b801bf218fa7 button.colab-df-convert');\n",
              "      buttonEl.style.display =\n",
              "        google.colab.kernel.accessAllowed ? 'block' : 'none';\n",
              "\n",
              "      async function convertToInteractive(key) {\n",
              "        const element = document.querySelector('#df-902fc4a1-d72b-4588-9e45-b801bf218fa7');\n",
              "        const dataTable =\n",
              "          await google.colab.kernel.invokeFunction('convertToInteractive',\n",
              "                                                    [key], {});\n",
              "        if (!dataTable) return;\n",
              "\n",
              "        const docLinkHtml = 'Like what you see? Visit the ' +\n",
              "          '<a target=\"_blank\" href=https://colab.research.google.com/notebooks/data_table.ipynb>data table notebook</a>'\n",
              "          + ' to learn more about interactive tables.';\n",
              "        element.innerHTML = '';\n",
              "        dataTable['output_type'] = 'display_data';\n",
              "        await google.colab.output.renderOutput(dataTable, element);\n",
              "        const docLink = document.createElement('div');\n",
              "        docLink.innerHTML = docLinkHtml;\n",
              "        element.appendChild(docLink);\n",
              "      }\n",
              "    </script>\n",
              "  </div>\n",
              "\n",
              "\n",
              "<div id=\"df-fd34ebb5-6816-401d-8934-3b19484711df\">\n",
              "  <button class=\"colab-df-quickchart\" onclick=\"quickchart('df-fd34ebb5-6816-401d-8934-3b19484711df')\"\n",
              "            title=\"Suggest charts\"\n",
              "            style=\"display:none;\">\n",
              "\n",
              "<svg xmlns=\"http://www.w3.org/2000/svg\" height=\"24px\"viewBox=\"0 0 24 24\"\n",
              "     width=\"24px\">\n",
              "    <g>\n",
              "        <path d=\"M19 3H5c-1.1 0-2 .9-2 2v14c0 1.1.9 2 2 2h14c1.1 0 2-.9 2-2V5c0-1.1-.9-2-2-2zM9 17H7v-7h2v7zm4 0h-2V7h2v10zm4 0h-2v-4h2v4z\"/>\n",
              "    </g>\n",
              "</svg>\n",
              "  </button>\n",
              "\n",
              "<style>\n",
              "  .colab-df-quickchart {\n",
              "      --bg-color: #E8F0FE;\n",
              "      --fill-color: #1967D2;\n",
              "      --hover-bg-color: #E2EBFA;\n",
              "      --hover-fill-color: #174EA6;\n",
              "      --disabled-fill-color: #AAA;\n",
              "      --disabled-bg-color: #DDD;\n",
              "  }\n",
              "\n",
              "  [theme=dark] .colab-df-quickchart {\n",
              "      --bg-color: #3B4455;\n",
              "      --fill-color: #D2E3FC;\n",
              "      --hover-bg-color: #434B5C;\n",
              "      --hover-fill-color: #FFFFFF;\n",
              "      --disabled-bg-color: #3B4455;\n",
              "      --disabled-fill-color: #666;\n",
              "  }\n",
              "\n",
              "  .colab-df-quickchart {\n",
              "    background-color: var(--bg-color);\n",
              "    border: none;\n",
              "    border-radius: 50%;\n",
              "    cursor: pointer;\n",
              "    display: none;\n",
              "    fill: var(--fill-color);\n",
              "    height: 32px;\n",
              "    padding: 0;\n",
              "    width: 32px;\n",
              "  }\n",
              "\n",
              "  .colab-df-quickchart:hover {\n",
              "    background-color: var(--hover-bg-color);\n",
              "    box-shadow: 0 1px 2px rgba(60, 64, 67, 0.3), 0 1px 3px 1px rgba(60, 64, 67, 0.15);\n",
              "    fill: var(--button-hover-fill-color);\n",
              "  }\n",
              "\n",
              "  .colab-df-quickchart-complete:disabled,\n",
              "  .colab-df-quickchart-complete:disabled:hover {\n",
              "    background-color: var(--disabled-bg-color);\n",
              "    fill: var(--disabled-fill-color);\n",
              "    box-shadow: none;\n",
              "  }\n",
              "\n",
              "  .colab-df-spinner {\n",
              "    border: 2px solid var(--fill-color);\n",
              "    border-color: transparent;\n",
              "    border-bottom-color: var(--fill-color);\n",
              "    animation:\n",
              "      spin 1s steps(1) infinite;\n",
              "  }\n",
              "\n",
              "  @keyframes spin {\n",
              "    0% {\n",
              "      border-color: transparent;\n",
              "      border-bottom-color: var(--fill-color);\n",
              "      border-left-color: var(--fill-color);\n",
              "    }\n",
              "    20% {\n",
              "      border-color: transparent;\n",
              "      border-left-color: var(--fill-color);\n",
              "      border-top-color: var(--fill-color);\n",
              "    }\n",
              "    30% {\n",
              "      border-color: transparent;\n",
              "      border-left-color: var(--fill-color);\n",
              "      border-top-color: var(--fill-color);\n",
              "      border-right-color: var(--fill-color);\n",
              "    }\n",
              "    40% {\n",
              "      border-color: transparent;\n",
              "      border-right-color: var(--fill-color);\n",
              "      border-top-color: var(--fill-color);\n",
              "    }\n",
              "    60% {\n",
              "      border-color: transparent;\n",
              "      border-right-color: var(--fill-color);\n",
              "    }\n",
              "    80% {\n",
              "      border-color: transparent;\n",
              "      border-right-color: var(--fill-color);\n",
              "      border-bottom-color: var(--fill-color);\n",
              "    }\n",
              "    90% {\n",
              "      border-color: transparent;\n",
              "      border-bottom-color: var(--fill-color);\n",
              "    }\n",
              "  }\n",
              "</style>\n",
              "\n",
              "  <script>\n",
              "    async function quickchart(key) {\n",
              "      const quickchartButtonEl =\n",
              "        document.querySelector('#' + key + ' button');\n",
              "      quickchartButtonEl.disabled = true;  // To prevent multiple clicks.\n",
              "      quickchartButtonEl.classList.add('colab-df-spinner');\n",
              "      try {\n",
              "        const charts = await google.colab.kernel.invokeFunction(\n",
              "            'suggestCharts', [key], {});\n",
              "      } catch (error) {\n",
              "        console.error('Error during call to suggestCharts:', error);\n",
              "      }\n",
              "      quickchartButtonEl.classList.remove('colab-df-spinner');\n",
              "      quickchartButtonEl.classList.add('colab-df-quickchart-complete');\n",
              "    }\n",
              "    (() => {\n",
              "      let quickchartButtonEl =\n",
              "        document.querySelector('#df-fd34ebb5-6816-401d-8934-3b19484711df button');\n",
              "      quickchartButtonEl.style.display =\n",
              "        google.colab.kernel.accessAllowed ? 'block' : 'none';\n",
              "    })();\n",
              "  </script>\n",
              "</div>\n",
              "\n",
              "    </div>\n",
              "  </div>\n"
            ],
            "application/vnd.google.colaboratory.intrinsic+json": {
              "type": "dataframe",
              "variable_name": "test_df",
              "summary": "{\n  \"name\": \"test_df\",\n  \"rows\": 2000,\n  \"fields\": [\n    {\n      \"column\": \"image_path\",\n      \"properties\": {\n        \"dtype\": \"string\",\n        \"num_unique_values\": 2000,\n        \"samples\": [\n          \"test-images/image_test_1861.png\",\n          \"test-images/image_test_354.png\",\n          \"test-images/image_test_1334.png\"\n        ],\n        \"semantic_type\": \"\",\n        \"description\": \"\"\n      }\n    },\n    {\n      \"column\": \"solution\",\n      \"properties\": {\n        \"dtype\": \"string\",\n        \"num_unique_values\": 1996,\n        \"samples\": [\n          \"441219\",\n          \"835157\",\n          \"207514\"\n        ],\n        \"semantic_type\": \"\",\n        \"description\": \"\"\n      }\n    }\n  ]\n}"
            }
          },
          "metadata": {},
          "execution_count": 10
        }
      ],
      "source": [
        "test_df.head()"
      ]
    },
    {
      "cell_type": "code",
      "execution_count": null,
      "id": "8f369dfe",
      "metadata": {
        "execution": {
          "iopub.execute_input": "2024-12-30T11:10:45.869073Z",
          "iopub.status.busy": "2024-12-30T11:10:45.868868Z",
          "iopub.status.idle": "2024-12-30T11:10:45.893513Z",
          "shell.execute_reply": "2024-12-30T11:10:45.892798Z"
        },
        "papermill": {
          "duration": 0.031204,
          "end_time": "2024-12-30T11:10:45.894732",
          "exception": false,
          "start_time": "2024-12-30T11:10:45.863528",
          "status": "completed"
        },
        "tags": [],
        "id": "8f369dfe"
      },
      "outputs": [],
      "source": [
        "train_image_paths = train_df['image_path'].values\n",
        "train_solutions = train_df['solution'].apply(preprocess_solution).values\n",
        "\n",
        "test_image_paths = test_df['image_path'].values\n",
        "test_solutions = test_df['solution'].apply(preprocess_solution).values\n",
        "\n",
        "val_image_paths = val_df['image_path'].values\n",
        "val_solutions = val_df['solution'].apply(preprocess_solution).values"
      ]
    },
    {
      "cell_type": "code",
      "execution_count": null,
      "id": "024e4cfb",
      "metadata": {
        "execution": {
          "iopub.execute_input": "2024-12-30T11:10:45.905860Z",
          "iopub.status.busy": "2024-12-30T11:10:45.905636Z",
          "iopub.status.idle": "2024-12-30T11:10:45.910064Z",
          "shell.execute_reply": "2024-12-30T11:10:45.909443Z"
        },
        "papermill": {
          "duration": 0.010945,
          "end_time": "2024-12-30T11:10:45.911151",
          "exception": false,
          "start_time": "2024-12-30T11:10:45.900206",
          "status": "completed"
        },
        "tags": [],
        "colab": {
          "base_uri": "https://localhost:8080/"
        },
        "id": "024e4cfb",
        "outputId": "2abd98a1-4248-4744-ab35-3f40b3ddeee6"
      },
      "outputs": [
        {
          "output_type": "execute_result",
          "data": {
            "text/plain": [
              "array(['train-images/image_train_1.png', 'train-images/image_train_2.png',\n",
              "       'train-images/image_train_3.png', ...,\n",
              "       'train-images/image_train_5998.png',\n",
              "       'train-images/image_train_5999.png',\n",
              "       'train-images/image_train_6000.png'], dtype=object)"
            ]
          },
          "metadata": {},
          "execution_count": 12
        }
      ],
      "source": [
        "train_image_paths"
      ]
    },
    {
      "cell_type": "code",
      "execution_count": null,
      "id": "c3658772",
      "metadata": {
        "execution": {
          "iopub.execute_input": "2024-12-30T11:10:45.921787Z",
          "iopub.status.busy": "2024-12-30T11:10:45.921583Z",
          "iopub.status.idle": "2024-12-30T11:10:45.926759Z",
          "shell.execute_reply": "2024-12-30T11:10:45.926078Z"
        },
        "papermill": {
          "duration": 0.011722,
          "end_time": "2024-12-30T11:10:45.927940",
          "exception": false,
          "start_time": "2024-12-30T11:10:45.916218",
          "status": "completed"
        },
        "tags": [],
        "colab": {
          "base_uri": "https://localhost:8080/"
        },
        "id": "c3658772",
        "outputId": "af55eee7-63c2-4b6b-9af1-7aaca3174dac"
      },
      "outputs": [
        {
          "output_type": "execute_result",
          "data": {
            "text/plain": [
              "array([array([0., 0., 0., 0., 7., 3.], dtype=float32),\n",
              "       array([0., 0., 0., 3., 7., 2.], dtype=float32),\n",
              "       array([0., 0., 0., 4., 5., 4.], dtype=float32), ...,\n",
              "       array([9., 9., 9., 2., 6., 4.], dtype=float32),\n",
              "       array([9., 9., 9., 5., 7., 6.], dtype=float32),\n",
              "       array([9., 9., 9., 8., 6., 5.], dtype=float32)], dtype=object)"
            ]
          },
          "metadata": {},
          "execution_count": 13
        }
      ],
      "source": [
        "train_solutions"
      ]
    },
    {
      "cell_type": "markdown",
      "id": "f3e0272a",
      "metadata": {
        "papermill": {
          "duration": 0.004968,
          "end_time": "2024-12-30T11:10:45.938011",
          "exception": false,
          "start_time": "2024-12-30T11:10:45.933043",
          "status": "completed"
        },
        "tags": [],
        "id": "f3e0272a"
      },
      "source": [
        "# Loads and preprocesses images, stacks solutions for train, test, and validation sets."
      ]
    },
    {
      "cell_type": "code",
      "execution_count": null,
      "id": "bbe24714",
      "metadata": {
        "execution": {
          "iopub.execute_input": "2024-12-30T11:10:45.948861Z",
          "iopub.status.busy": "2024-12-30T11:10:45.948633Z",
          "iopub.status.idle": "2024-12-30T11:10:45.952242Z",
          "shell.execute_reply": "2024-12-30T11:10:45.951588Z"
        },
        "papermill": {
          "duration": 0.010291,
          "end_time": "2024-12-30T11:10:45.953376",
          "exception": false,
          "start_time": "2024-12-30T11:10:45.943085",
          "status": "completed"
        },
        "tags": [],
        "id": "bbe24714"
      },
      "outputs": [],
      "source": [
        "def read_images(image_paths, subset_path=''):\n",
        "\n",
        "    images = [np.array(Image.open(f\"{subset_path}{path}\").convert('RGB')) for path in image_paths]\n",
        "    return  np.array(images)"
      ]
    },
    {
      "cell_type": "code",
      "execution_count": null,
      "id": "4e222876",
      "metadata": {
        "execution": {
          "iopub.execute_input": "2024-12-30T11:10:45.964672Z",
          "iopub.status.busy": "2024-12-30T11:10:45.964388Z",
          "iopub.status.idle": "2024-12-30T11:12:16.870084Z",
          "shell.execute_reply": "2024-12-30T11:12:16.869368Z"
        },
        "papermill": {
          "duration": 90.913365,
          "end_time": "2024-12-30T11:12:16.871810",
          "exception": false,
          "start_time": "2024-12-30T11:10:45.958445",
          "status": "completed"
        },
        "tags": [],
        "id": "4e222876"
      },
      "outputs": [],
      "source": [
        "train_images = read_images(train_image_paths, subset_path='/root/.cache/kagglehub/datasets/huthayfahodeb/captcha-dataset/versions/2/train-images/')\n",
        "test_images = read_images(test_image_paths, subset_path='/root/.cache/kagglehub/datasets/huthayfahodeb/captcha-dataset/versions/2/test-images/')\n",
        "val_images = read_images(val_image_paths, subset_path='/root/.cache/kagglehub/datasets/huthayfahodeb/captcha-dataset/versions/2/validation-images/')\n"
      ]
    },
    {
      "cell_type": "code",
      "execution_count": null,
      "id": "7eedc84b",
      "metadata": {
        "execution": {
          "iopub.execute_input": "2024-12-30T11:12:16.883714Z",
          "iopub.status.busy": "2024-12-30T11:12:16.883458Z",
          "iopub.status.idle": "2024-12-30T11:12:16.887982Z",
          "shell.execute_reply": "2024-12-30T11:12:16.887298Z"
        },
        "papermill": {
          "duration": 0.011584,
          "end_time": "2024-12-30T11:12:16.889220",
          "exception": false,
          "start_time": "2024-12-30T11:12:16.877636",
          "status": "completed"
        },
        "tags": [],
        "colab": {
          "base_uri": "https://localhost:8080/"
        },
        "id": "7eedc84b",
        "outputId": "aa882679-0ac4-4646-f136-abaf29fbe71e"
      },
      "outputs": [
        {
          "output_type": "execute_result",
          "data": {
            "text/plain": [
              "((6000, 50, 200, 3), (2000, 50, 200, 3), (2000, 50, 200, 3))"
            ]
          },
          "metadata": {},
          "execution_count": 16
        }
      ],
      "source": [
        "train_images.shape , test_images.shape, val_images.shape"
      ]
    },
    {
      "cell_type": "code",
      "execution_count": null,
      "id": "d244e33e",
      "metadata": {
        "execution": {
          "iopub.execute_input": "2024-12-30T11:12:16.900540Z",
          "iopub.status.busy": "2024-12-30T11:12:16.900317Z",
          "iopub.status.idle": "2024-12-30T11:12:16.912922Z",
          "shell.execute_reply": "2024-12-30T11:12:16.912380Z"
        },
        "papermill": {
          "duration": 0.019726,
          "end_time": "2024-12-30T11:12:16.914155",
          "exception": false,
          "start_time": "2024-12-30T11:12:16.894429",
          "status": "completed"
        },
        "tags": [],
        "id": "d244e33e"
      },
      "outputs": [],
      "source": [
        "train_solutions = np.vstack(train_solutions)\n",
        "test_solutions = np.vstack(test_solutions)\n",
        "val_solutions = np.vstack(val_solutions)"
      ]
    },
    {
      "cell_type": "code",
      "execution_count": null,
      "id": "1ca63bfd",
      "metadata": {
        "execution": {
          "iopub.execute_input": "2024-12-30T11:12:16.925330Z",
          "iopub.status.busy": "2024-12-30T11:12:16.925074Z",
          "iopub.status.idle": "2024-12-30T11:12:16.929309Z",
          "shell.execute_reply": "2024-12-30T11:12:16.928668Z"
        },
        "papermill": {
          "duration": 0.011116,
          "end_time": "2024-12-30T11:12:16.930461",
          "exception": false,
          "start_time": "2024-12-30T11:12:16.919345",
          "status": "completed"
        },
        "tags": [],
        "colab": {
          "base_uri": "https://localhost:8080/"
        },
        "id": "1ca63bfd",
        "outputId": "44f7f115-a1e2-4cda-d935-c7a80294cee0"
      },
      "outputs": [
        {
          "output_type": "execute_result",
          "data": {
            "text/plain": [
              "(6000, 6)"
            ]
          },
          "metadata": {},
          "execution_count": 18
        }
      ],
      "source": [
        "train_solutions.shape"
      ]
    },
    {
      "cell_type": "markdown",
      "id": "12474387",
      "metadata": {
        "papermill": {
          "duration": 0.00488,
          "end_time": "2024-12-30T11:12:16.940538",
          "exception": false,
          "start_time": "2024-12-30T11:12:16.935658",
          "status": "completed"
        },
        "tags": [],
        "id": "12474387"
      },
      "source": [
        "# Builds and trains a ResNet50-based model for CAPTCHA recognition"
      ]
    },
    {
      "cell_type": "code",
      "execution_count": null,
      "id": "be315e54",
      "metadata": {
        "execution": {
          "iopub.execute_input": "2024-12-30T11:12:16.951573Z",
          "iopub.status.busy": "2024-12-30T11:12:16.951346Z",
          "iopub.status.idle": "2024-12-30T11:12:19.410791Z",
          "shell.execute_reply": "2024-12-30T11:12:19.409922Z"
        },
        "papermill": {
          "duration": 2.466535,
          "end_time": "2024-12-30T11:12:19.412220",
          "exception": false,
          "start_time": "2024-12-30T11:12:16.945685",
          "status": "completed"
        },
        "tags": [],
        "colab": {
          "base_uri": "https://localhost:8080/",
          "height": 402
        },
        "id": "be315e54",
        "outputId": "1e25ab98-a2fc-44e6-8205-3a15ac6dd138"
      },
      "outputs": [
        {
          "output_type": "stream",
          "name": "stdout",
          "text": [
            "Downloading data from https://storage.googleapis.com/tensorflow/keras-applications/resnet/resnet50_weights_tf_dim_ordering_tf_kernels_notop.h5\n",
            "\u001b[1m94765736/94765736\u001b[0m \u001b[32m━━━━━━━━━━━━━━━━━━━━\u001b[0m\u001b[37m\u001b[0m \u001b[1m4s\u001b[0m 0us/step\n"
          ]
        },
        {
          "output_type": "display_data",
          "data": {
            "text/plain": [
              "\u001b[1mModel: \"functional\"\u001b[0m\n"
            ],
            "text/html": [
              "<pre style=\"white-space:pre;overflow-x:auto;line-height:normal;font-family:Menlo,'DejaVu Sans Mono',consolas,'Courier New',monospace\"><span style=\"font-weight: bold\">Model: \"functional\"</span>\n",
              "</pre>\n"
            ]
          },
          "metadata": {}
        },
        {
          "output_type": "display_data",
          "data": {
            "text/plain": [
              "┏━━━━━━━━━━━━━━━━━━━━━━━━━━━━━━━━━━━━━━┳━━━━━━━━━━━━━━━━━━━━━━━━━━━━━┳━━━━━━━━━━━━━━━━━┓\n",
              "┃\u001b[1m \u001b[0m\u001b[1mLayer (type)                        \u001b[0m\u001b[1m \u001b[0m┃\u001b[1m \u001b[0m\u001b[1mOutput Shape               \u001b[0m\u001b[1m \u001b[0m┃\u001b[1m \u001b[0m\u001b[1m        Param #\u001b[0m\u001b[1m \u001b[0m┃\n",
              "┡━━━━━━━━━━━━━━━━━━━━━━━━━━━━━━━━━━━━━━╇━━━━━━━━━━━━━━━━━━━━━━━━━━━━━╇━━━━━━━━━━━━━━━━━┩\n",
              "│ input_layer_1 (\u001b[38;5;33mInputLayer\u001b[0m)           │ (\u001b[38;5;45mNone\u001b[0m, \u001b[38;5;34m50\u001b[0m, \u001b[38;5;34m200\u001b[0m, \u001b[38;5;34m3\u001b[0m)          │               \u001b[38;5;34m0\u001b[0m │\n",
              "├──────────────────────────────────────┼─────────────────────────────┼─────────────────┤\n",
              "│ resnet50 (\u001b[38;5;33mFunctional\u001b[0m)                │ (\u001b[38;5;45mNone\u001b[0m, \u001b[38;5;34m2\u001b[0m, \u001b[38;5;34m7\u001b[0m, \u001b[38;5;34m2048\u001b[0m)          │      \u001b[38;5;34m23,587,712\u001b[0m │\n",
              "├──────────────────────────────────────┼─────────────────────────────┼─────────────────┤\n",
              "│ global_average_pooling2d             │ (\u001b[38;5;45mNone\u001b[0m, \u001b[38;5;34m2048\u001b[0m)                │               \u001b[38;5;34m0\u001b[0m │\n",
              "│ (\u001b[38;5;33mGlobalAveragePooling2D\u001b[0m)             │                             │                 │\n",
              "├──────────────────────────────────────┼─────────────────────────────┼─────────────────┤\n",
              "│ dense (\u001b[38;5;33mDense\u001b[0m)                        │ (\u001b[38;5;45mNone\u001b[0m, \u001b[38;5;34m512\u001b[0m)                 │       \u001b[38;5;34m1,049,088\u001b[0m │\n",
              "├──────────────────────────────────────┼─────────────────────────────┼─────────────────┤\n",
              "│ dense_1 (\u001b[38;5;33mDense\u001b[0m)                      │ (\u001b[38;5;45mNone\u001b[0m, \u001b[38;5;34m256\u001b[0m)                 │         \u001b[38;5;34m131,328\u001b[0m │\n",
              "├──────────────────────────────────────┼─────────────────────────────┼─────────────────┤\n",
              "│ dense_2 (\u001b[38;5;33mDense\u001b[0m)                      │ (\u001b[38;5;45mNone\u001b[0m, \u001b[38;5;34m6\u001b[0m)                   │           \u001b[38;5;34m1,542\u001b[0m │\n",
              "└──────────────────────────────────────┴─────────────────────────────┴─────────────────┘\n"
            ],
            "text/html": [
              "<pre style=\"white-space:pre;overflow-x:auto;line-height:normal;font-family:Menlo,'DejaVu Sans Mono',consolas,'Courier New',monospace\">┏━━━━━━━━━━━━━━━━━━━━━━━━━━━━━━━━━━━━━━┳━━━━━━━━━━━━━━━━━━━━━━━━━━━━━┳━━━━━━━━━━━━━━━━━┓\n",
              "┃<span style=\"font-weight: bold\"> Layer (type)                         </span>┃<span style=\"font-weight: bold\"> Output Shape                </span>┃<span style=\"font-weight: bold\">         Param # </span>┃\n",
              "┡━━━━━━━━━━━━━━━━━━━━━━━━━━━━━━━━━━━━━━╇━━━━━━━━━━━━━━━━━━━━━━━━━━━━━╇━━━━━━━━━━━━━━━━━┩\n",
              "│ input_layer_1 (<span style=\"color: #0087ff; text-decoration-color: #0087ff\">InputLayer</span>)           │ (<span style=\"color: #00d7ff; text-decoration-color: #00d7ff\">None</span>, <span style=\"color: #00af00; text-decoration-color: #00af00\">50</span>, <span style=\"color: #00af00; text-decoration-color: #00af00\">200</span>, <span style=\"color: #00af00; text-decoration-color: #00af00\">3</span>)          │               <span style=\"color: #00af00; text-decoration-color: #00af00\">0</span> │\n",
              "├──────────────────────────────────────┼─────────────────────────────┼─────────────────┤\n",
              "│ resnet50 (<span style=\"color: #0087ff; text-decoration-color: #0087ff\">Functional</span>)                │ (<span style=\"color: #00d7ff; text-decoration-color: #00d7ff\">None</span>, <span style=\"color: #00af00; text-decoration-color: #00af00\">2</span>, <span style=\"color: #00af00; text-decoration-color: #00af00\">7</span>, <span style=\"color: #00af00; text-decoration-color: #00af00\">2048</span>)          │      <span style=\"color: #00af00; text-decoration-color: #00af00\">23,587,712</span> │\n",
              "├──────────────────────────────────────┼─────────────────────────────┼─────────────────┤\n",
              "│ global_average_pooling2d             │ (<span style=\"color: #00d7ff; text-decoration-color: #00d7ff\">None</span>, <span style=\"color: #00af00; text-decoration-color: #00af00\">2048</span>)                │               <span style=\"color: #00af00; text-decoration-color: #00af00\">0</span> │\n",
              "│ (<span style=\"color: #0087ff; text-decoration-color: #0087ff\">GlobalAveragePooling2D</span>)             │                             │                 │\n",
              "├──────────────────────────────────────┼─────────────────────────────┼─────────────────┤\n",
              "│ dense (<span style=\"color: #0087ff; text-decoration-color: #0087ff\">Dense</span>)                        │ (<span style=\"color: #00d7ff; text-decoration-color: #00d7ff\">None</span>, <span style=\"color: #00af00; text-decoration-color: #00af00\">512</span>)                 │       <span style=\"color: #00af00; text-decoration-color: #00af00\">1,049,088</span> │\n",
              "├──────────────────────────────────────┼─────────────────────────────┼─────────────────┤\n",
              "│ dense_1 (<span style=\"color: #0087ff; text-decoration-color: #0087ff\">Dense</span>)                      │ (<span style=\"color: #00d7ff; text-decoration-color: #00d7ff\">None</span>, <span style=\"color: #00af00; text-decoration-color: #00af00\">256</span>)                 │         <span style=\"color: #00af00; text-decoration-color: #00af00\">131,328</span> │\n",
              "├──────────────────────────────────────┼─────────────────────────────┼─────────────────┤\n",
              "│ dense_2 (<span style=\"color: #0087ff; text-decoration-color: #0087ff\">Dense</span>)                      │ (<span style=\"color: #00d7ff; text-decoration-color: #00d7ff\">None</span>, <span style=\"color: #00af00; text-decoration-color: #00af00\">6</span>)                   │           <span style=\"color: #00af00; text-decoration-color: #00af00\">1,542</span> │\n",
              "└──────────────────────────────────────┴─────────────────────────────┴─────────────────┘\n",
              "</pre>\n"
            ]
          },
          "metadata": {}
        },
        {
          "output_type": "display_data",
          "data": {
            "text/plain": [
              "\u001b[1m Total params: \u001b[0m\u001b[38;5;34m24,769,670\u001b[0m (94.49 MB)\n"
            ],
            "text/html": [
              "<pre style=\"white-space:pre;overflow-x:auto;line-height:normal;font-family:Menlo,'DejaVu Sans Mono',consolas,'Courier New',monospace\"><span style=\"font-weight: bold\"> Total params: </span><span style=\"color: #00af00; text-decoration-color: #00af00\">24,769,670</span> (94.49 MB)\n",
              "</pre>\n"
            ]
          },
          "metadata": {}
        },
        {
          "output_type": "display_data",
          "data": {
            "text/plain": [
              "\u001b[1m Trainable params: \u001b[0m\u001b[38;5;34m24,716,550\u001b[0m (94.29 MB)\n"
            ],
            "text/html": [
              "<pre style=\"white-space:pre;overflow-x:auto;line-height:normal;font-family:Menlo,'DejaVu Sans Mono',consolas,'Courier New',monospace\"><span style=\"font-weight: bold\"> Trainable params: </span><span style=\"color: #00af00; text-decoration-color: #00af00\">24,716,550</span> (94.29 MB)\n",
              "</pre>\n"
            ]
          },
          "metadata": {}
        },
        {
          "output_type": "display_data",
          "data": {
            "text/plain": [
              "\u001b[1m Non-trainable params: \u001b[0m\u001b[38;5;34m53,120\u001b[0m (207.50 KB)\n"
            ],
            "text/html": [
              "<pre style=\"white-space:pre;overflow-x:auto;line-height:normal;font-family:Menlo,'DejaVu Sans Mono',consolas,'Courier New',monospace\"><span style=\"font-weight: bold\"> Non-trainable params: </span><span style=\"color: #00af00; text-decoration-color: #00af00\">53,120</span> (207.50 KB)\n",
              "</pre>\n"
            ]
          },
          "metadata": {}
        }
      ],
      "source": [
        "base_model = ResNet50(weights='imagenet', include_top=False, input_shape=(50, 200, 3))\n",
        "\n",
        "base_model.trainable = True\n",
        "\n",
        "inputs = Input(shape=(50, 200, 3))\n",
        "\n",
        "x = base_model(inputs)\n",
        "\n",
        "x = layers.GlobalAveragePooling2D()(x)\n",
        "\n",
        "x = layers.Dense(512, activation='relu')(x)\n",
        "x = layers.Dense(256, activation='relu')(x)\n",
        "\n",
        "outputs = layers.Dense(6)(x)\n",
        "\n",
        "model = Model(inputs, outputs)\n",
        "\n",
        "model.compile(optimizer='adam', loss='mse')\n",
        "\n",
        "model.summary()"
      ]
    },
    {
      "cell_type": "code",
      "execution_count": null,
      "id": "545b22f5",
      "metadata": {
        "execution": {
          "iopub.execute_input": "2024-12-30T11:12:19.426501Z",
          "iopub.status.busy": "2024-12-30T11:12:19.426213Z",
          "iopub.status.idle": "2024-12-30T11:19:31.915714Z",
          "shell.execute_reply": "2024-12-30T11:19:31.914920Z"
        },
        "papermill": {
          "duration": 432.498537,
          "end_time": "2024-12-30T11:19:31.917322",
          "exception": false,
          "start_time": "2024-12-30T11:12:19.418785",
          "status": "completed"
        },
        "tags": [],
        "colab": {
          "base_uri": "https://localhost:8080/"
        },
        "id": "545b22f5",
        "outputId": "ce6df12a-d173-4f21-c5b3-6d074cb51add"
      },
      "outputs": [
        {
          "output_type": "stream",
          "name": "stdout",
          "text": [
            "Epoch 1/35\n",
            "\u001b[1m188/188\u001b[0m \u001b[32m━━━━━━━━━━━━━━━━━━━━\u001b[0m\u001b[37m\u001b[0m \u001b[1m21s\u001b[0m 112ms/step - loss: 0.0792 - val_loss: 3.1311\n",
            "Epoch 2/35\n",
            "\u001b[1m188/188\u001b[0m \u001b[32m━━━━━━━━━━━━━━━━━━━━\u001b[0m\u001b[37m\u001b[0m \u001b[1m41s\u001b[0m 110ms/step - loss: 0.3055 - val_loss: 0.8912\n",
            "Epoch 3/35\n",
            "\u001b[1m188/188\u001b[0m \u001b[32m━━━━━━━━━━━━━━━━━━━━\u001b[0m\u001b[37m\u001b[0m \u001b[1m41s\u001b[0m 110ms/step - loss: 0.1377 - val_loss: 0.1889\n",
            "Epoch 4/35\n",
            "\u001b[1m188/188\u001b[0m \u001b[32m━━━━━━━━━━━━━━━━━━━━\u001b[0m\u001b[37m\u001b[0m \u001b[1m21s\u001b[0m 110ms/step - loss: 0.0676 - val_loss: 0.1292\n",
            "Epoch 5/35\n",
            "\u001b[1m188/188\u001b[0m \u001b[32m━━━━━━━━━━━━━━━━━━━━\u001b[0m\u001b[37m\u001b[0m \u001b[1m41s\u001b[0m 108ms/step - loss: 0.0429 - val_loss: 0.1025\n",
            "Epoch 6/35\n",
            "\u001b[1m188/188\u001b[0m \u001b[32m━━━━━━━━━━━━━━━━━━━━\u001b[0m\u001b[37m\u001b[0m \u001b[1m21s\u001b[0m 111ms/step - loss: 0.0282 - val_loss: 0.1029\n",
            "Epoch 7/35\n",
            "\u001b[1m188/188\u001b[0m \u001b[32m━━━━━━━━━━━━━━━━━━━━\u001b[0m\u001b[37m\u001b[0m \u001b[1m41s\u001b[0m 109ms/step - loss: 0.0235 - val_loss: 0.1006\n",
            "Epoch 8/35\n",
            "\u001b[1m188/188\u001b[0m \u001b[32m━━━━━━━━━━━━━━━━━━━━\u001b[0m\u001b[37m\u001b[0m \u001b[1m41s\u001b[0m 110ms/step - loss: 0.0215 - val_loss: 0.0804\n",
            "Epoch 9/35\n",
            "\u001b[1m188/188\u001b[0m \u001b[32m━━━━━━━━━━━━━━━━━━━━\u001b[0m\u001b[37m\u001b[0m \u001b[1m40s\u001b[0m 104ms/step - loss: 0.0164 - val_loss: 0.0810\n",
            "Epoch 10/35\n",
            "\u001b[1m188/188\u001b[0m \u001b[32m━━━━━━━━━━━━━━━━━━━━\u001b[0m\u001b[37m\u001b[0m \u001b[1m22s\u001b[0m 111ms/step - loss: 0.0177 - val_loss: 0.0819\n",
            "Epoch 11/35\n",
            "\u001b[1m188/188\u001b[0m \u001b[32m━━━━━━━━━━━━━━━━━━━━\u001b[0m\u001b[37m\u001b[0m \u001b[1m40s\u001b[0m 104ms/step - loss: 0.0160 - val_loss: 0.0918\n",
            "Epoch 12/35\n",
            "\u001b[1m188/188\u001b[0m \u001b[32m━━━━━━━━━━━━━━━━━━━━\u001b[0m\u001b[37m\u001b[0m \u001b[1m21s\u001b[0m 112ms/step - loss: 0.0216 - val_loss: 0.0803\n",
            "Epoch 13/35\n",
            "\u001b[1m188/188\u001b[0m \u001b[32m━━━━━━━━━━━━━━━━━━━━\u001b[0m\u001b[37m\u001b[0m \u001b[1m39s\u001b[0m 103ms/step - loss: 0.0166 - val_loss: 0.0993\n",
            "Epoch 14/35\n",
            "\u001b[1m188/188\u001b[0m \u001b[32m━━━━━━━━━━━━━━━━━━━━\u001b[0m\u001b[37m\u001b[0m \u001b[1m21s\u001b[0m 112ms/step - loss: 0.0246 - val_loss: 0.0918\n",
            "Epoch 15/35\n",
            "\u001b[1m188/188\u001b[0m \u001b[32m━━━━━━━━━━━━━━━━━━━━\u001b[0m\u001b[37m\u001b[0m \u001b[1m41s\u001b[0m 109ms/step - loss: 0.0717 - val_loss: 0.8566\n",
            "Epoch 16/35\n",
            "\u001b[1m188/188\u001b[0m \u001b[32m━━━━━━━━━━━━━━━━━━━━\u001b[0m\u001b[37m\u001b[0m \u001b[1m40s\u001b[0m 106ms/step - loss: 0.1337 - val_loss: 1.2485\n",
            "Epoch 17/35\n",
            "\u001b[1m188/188\u001b[0m \u001b[32m━━━━━━━━━━━━━━━━━━━━\u001b[0m\u001b[37m\u001b[0m \u001b[1m20s\u001b[0m 106ms/step - loss: 0.0980 - val_loss: 0.1808\n",
            "Epoch 18/35\n",
            "\u001b[1m188/188\u001b[0m \u001b[32m━━━━━━━━━━━━━━━━━━━━\u001b[0m\u001b[37m\u001b[0m \u001b[1m21s\u001b[0m 108ms/step - loss: 0.0394 - val_loss: 0.0800\n",
            "Epoch 19/35\n",
            "\u001b[1m188/188\u001b[0m \u001b[32m━━━━━━━━━━━━━━━━━━━━\u001b[0m\u001b[37m\u001b[0m \u001b[1m21s\u001b[0m 108ms/step - loss: 0.0186 - val_loss: 0.1094\n",
            "Epoch 20/35\n",
            "\u001b[1m188/188\u001b[0m \u001b[32m━━━━━━━━━━━━━━━━━━━━\u001b[0m\u001b[37m\u001b[0m \u001b[1m21s\u001b[0m 110ms/step - loss: 0.0241 - val_loss: 0.0757\n",
            "Epoch 21/35\n",
            "\u001b[1m188/188\u001b[0m \u001b[32m━━━━━━━━━━━━━━━━━━━━\u001b[0m\u001b[37m\u001b[0m \u001b[1m41s\u001b[0m 109ms/step - loss: 0.0139 - val_loss: 0.0711\n",
            "Epoch 22/35\n",
            "\u001b[1m188/188\u001b[0m \u001b[32m━━━━━━━━━━━━━━━━━━━━\u001b[0m\u001b[37m\u001b[0m \u001b[1m40s\u001b[0m 105ms/step - loss: 0.0109 - val_loss: 0.0706\n",
            "Epoch 23/35\n",
            "\u001b[1m188/188\u001b[0m \u001b[32m━━━━━━━━━━━━━━━━━━━━\u001b[0m\u001b[37m\u001b[0m \u001b[1m21s\u001b[0m 110ms/step - loss: 0.0100 - val_loss: 0.0696\n",
            "Epoch 24/35\n",
            "\u001b[1m188/188\u001b[0m \u001b[32m━━━━━━━━━━━━━━━━━━━━\u001b[0m\u001b[37m\u001b[0m \u001b[1m40s\u001b[0m 103ms/step - loss: 0.0095 - val_loss: 0.0679\n",
            "Epoch 25/35\n",
            "\u001b[1m188/188\u001b[0m \u001b[32m━━━━━━━━━━━━━━━━━━━━\u001b[0m\u001b[37m\u001b[0m \u001b[1m22s\u001b[0m 111ms/step - loss: 0.0089 - val_loss: 0.0746\n",
            "Epoch 26/35\n",
            "\u001b[1m188/188\u001b[0m \u001b[32m━━━━━━━━━━━━━━━━━━━━\u001b[0m\u001b[37m\u001b[0m \u001b[1m40s\u001b[0m 103ms/step - loss: 0.0123 - val_loss: 0.0678\n",
            "Epoch 27/35\n",
            "\u001b[1m188/188\u001b[0m \u001b[32m━━━━━━━━━━━━━━━━━━━━\u001b[0m\u001b[37m\u001b[0m \u001b[1m21s\u001b[0m 106ms/step - loss: 0.0129 - val_loss: 0.0691\n",
            "Epoch 28/35\n",
            "\u001b[1m188/188\u001b[0m \u001b[32m━━━━━━━━━━━━━━━━━━━━\u001b[0m\u001b[37m\u001b[0m \u001b[1m21s\u001b[0m 110ms/step - loss: 0.0129 - val_loss: 0.0936\n",
            "Epoch 29/35\n",
            "\u001b[1m188/188\u001b[0m \u001b[32m━━━━━━━━━━━━━━━━━━━━\u001b[0m\u001b[37m\u001b[0m \u001b[1m40s\u001b[0m 103ms/step - loss: 0.0256 - val_loss: 0.0711\n",
            "Epoch 30/35\n",
            "\u001b[1m188/188\u001b[0m \u001b[32m━━━━━━━━━━━━━━━━━━━━\u001b[0m\u001b[37m\u001b[0m \u001b[1m21s\u001b[0m 106ms/step - loss: 0.0120 - val_loss: 0.0675\n",
            "Epoch 31/35\n",
            "\u001b[1m188/188\u001b[0m \u001b[32m━━━━━━━━━━━━━━━━━━━━\u001b[0m\u001b[37m\u001b[0m \u001b[1m20s\u001b[0m 105ms/step - loss: 0.0165 - val_loss: 21.3422\n",
            "Epoch 32/35\n",
            "\u001b[1m188/188\u001b[0m \u001b[32m━━━━━━━━━━━━━━━━━━━━\u001b[0m\u001b[37m\u001b[0m \u001b[1m20s\u001b[0m 103ms/step - loss: 0.2690 - val_loss: 1.0560\n",
            "Epoch 33/35\n",
            "\u001b[1m188/188\u001b[0m \u001b[32m━━━━━━━━━━━━━━━━━━━━\u001b[0m\u001b[37m\u001b[0m \u001b[1m21s\u001b[0m 104ms/step - loss: 0.0744 - val_loss: 0.1069\n",
            "Epoch 34/35\n",
            "\u001b[1m188/188\u001b[0m \u001b[32m━━━━━━━━━━━━━━━━━━━━\u001b[0m\u001b[37m\u001b[0m \u001b[1m22s\u001b[0m 110ms/step - loss: 0.0328 - val_loss: 0.0746\n",
            "Epoch 35/35\n",
            "\u001b[1m188/188\u001b[0m \u001b[32m━━━━━━━━━━━━━━━━━━━━\u001b[0m\u001b[37m\u001b[0m \u001b[1m40s\u001b[0m 105ms/step - loss: 0.0242 - val_loss: 0.0940\n"
          ]
        }
      ],
      "source": [
        "history = model.fit(\n",
        "    train_images,\n",
        "    train_solutions,\n",
        "    validation_data=(val_images, val_solutions),\n",
        "    epochs=35\n",
        ")"
      ]
    },
    {
      "cell_type": "markdown",
      "id": "0413b60b",
      "metadata": {
        "papermill": {
          "duration": 0.305403,
          "end_time": "2024-12-30T11:19:32.489261",
          "exception": false,
          "start_time": "2024-12-30T11:19:32.183858",
          "status": "completed"
        },
        "tags": [],
        "id": "0413b60b"
      },
      "source": [
        "## Evaluates the model on test data."
      ]
    },
    {
      "cell_type": "code",
      "execution_count": null,
      "id": "38fa85cd",
      "metadata": {
        "execution": {
          "iopub.execute_input": "2024-12-30T11:19:33.015882Z",
          "iopub.status.busy": "2024-12-30T11:19:33.015535Z",
          "iopub.status.idle": "2024-12-30T11:19:34.270692Z",
          "shell.execute_reply": "2024-12-30T11:19:34.269770Z"
        },
        "papermill": {
          "duration": 1.519583,
          "end_time": "2024-12-30T11:19:34.272048",
          "exception": false,
          "start_time": "2024-12-30T11:19:32.752465",
          "status": "completed"
        },
        "tags": [],
        "colab": {
          "base_uri": "https://localhost:8080/"
        },
        "id": "38fa85cd",
        "outputId": "1d1fadcd-5ec3-4d36-9774-25bc1f8cbca4"
      },
      "outputs": [
        {
          "output_type": "stream",
          "name": "stdout",
          "text": [
            "\u001b[1m63/63\u001b[0m \u001b[32m━━━━━━━━━━━━━━━━━━━━\u001b[0m\u001b[37m\u001b[0m \u001b[1m2s\u001b[0m 28ms/step - loss: 0.0719\n",
            "Test Loss: 0.10212192684412003\n"
          ]
        }
      ],
      "source": [
        "test_loss = model.evaluate(test_images, test_solutions)\n",
        "print(f\"Test Loss: {test_loss}\")"
      ]
    },
    {
      "cell_type": "markdown",
      "id": "a79a78d3",
      "metadata": {
        "papermill": {
          "duration": 0.268979,
          "end_time": "2024-12-30T11:19:34.856122",
          "exception": false,
          "start_time": "2024-12-30T11:19:34.587143",
          "status": "completed"
        },
        "tags": [],
        "id": "a79a78d3"
      },
      "source": [
        "# Predicts CAPTCHA solution from an image using the trained model"
      ]
    },
    {
      "cell_type": "code",
      "execution_count": null,
      "id": "9fcd269f",
      "metadata": {
        "execution": {
          "iopub.execute_input": "2024-12-30T11:19:35.395382Z",
          "iopub.status.busy": "2024-12-30T11:19:35.395032Z",
          "iopub.status.idle": "2024-12-30T11:19:35.400110Z",
          "shell.execute_reply": "2024-12-30T11:19:35.399268Z"
        },
        "papermill": {
          "duration": 0.274919,
          "end_time": "2024-12-30T11:19:35.401415",
          "exception": false,
          "start_time": "2024-12-30T11:19:35.126496",
          "status": "completed"
        },
        "tags": [],
        "id": "9fcd269f"
      },
      "outputs": [],
      "source": [
        "def output_to_solution(prediction):\n",
        "    prediction = np.round(prediction).astype(int)\n",
        "\n",
        "    solution = ''.join(map(str, prediction[0])).lstrip('0')\n",
        "\n",
        "    return solution\n",
        "\n",
        "def predict_and_plot(image_path, model):\n",
        "    img = Image.open(image_path)\n",
        "\n",
        "    img_array = np.array(img)\n",
        "\n",
        "    img_array = np.expand_dims(img_array, axis=0)\n",
        "\n",
        "    prediction = model.predict(img_array)\n",
        "\n",
        "    prediction = output_to_solution(prediction)\n",
        "\n",
        "    plt.imshow(img)\n",
        "    plt.title(f'Prediction: {prediction}')\n",
        "    plt.axis('off')\n",
        "    plt.show()\n",
        "\n",
        "    return prediction"
      ]
    },
    {
      "cell_type": "code",
      "execution_count": null,
      "id": "060d22a7",
      "metadata": {
        "execution": {
          "iopub.execute_input": "2024-12-30T11:19:35.985985Z",
          "iopub.status.busy": "2024-12-30T11:19:35.985454Z",
          "iopub.status.idle": "2024-12-30T11:19:39.645876Z",
          "shell.execute_reply": "2024-12-30T11:19:39.644642Z"
        },
        "papermill": {
          "duration": 3.930018,
          "end_time": "2024-12-30T11:19:39.647973",
          "exception": false,
          "start_time": "2024-12-30T11:19:35.717955",
          "status": "completed"
        },
        "tags": [],
        "colab": {
          "base_uri": "https://localhost:8080/",
          "height": 218
        },
        "id": "060d22a7",
        "outputId": "4d11a93b-013a-430e-c173-6f78ff701e1e"
      },
      "outputs": [
        {
          "output_type": "stream",
          "name": "stdout",
          "text": [
            "\u001b[1m1/1\u001b[0m \u001b[32m━━━━━━━━━━━━━━━━━━━━\u001b[0m\u001b[37m\u001b[0m \u001b[1m0s\u001b[0m 41ms/step\n"
          ]
        },
        {
          "output_type": "display_data",
          "data": {
            "text/plain": [
              "<Figure size 640x480 with 1 Axes>"
            ],
            "image/png": "[encoded data removed]"
          },
          "metadata": {}
        },
        {
          "output_type": "stream",
          "name": "stdout",
          "text": [
            "Predicted output: 502127\n"
          ]
        }
      ],
      "source": [
        "image_path = '/root/.cache/kagglehub/datasets/huthayfahodeb/captcha-dataset/versions/2/test-images/test-images/image_test_1002.png'\n",
        "prediction = predict_and_plot(image_path, model)\n",
        "print(\"Predicted output:\", prediction)"
      ]
    },
    {
      "cell_type": "code",
      "execution_count": null,
      "id": "ed516b30",
      "metadata": {
        "execution": {
          "iopub.execute_input": "2024-12-30T11:19:40.193990Z",
          "iopub.status.busy": "2024-12-30T11:19:40.193692Z",
          "iopub.status.idle": "2024-12-30T11:19:40.402128Z",
          "shell.execute_reply": "2024-12-30T11:19:40.401006Z"
        },
        "papermill": {
          "duration": 0.483106,
          "end_time": "2024-12-30T11:19:40.406258",
          "exception": false,
          "start_time": "2024-12-30T11:19:39.923152",
          "status": "completed"
        },
        "tags": [],
        "colab": {
          "base_uri": "https://localhost:8080/",
          "height": 218
        },
        "id": "ed516b30",
        "outputId": "ba0243df-bc54-462a-8b69-db1e34a89f44"
      },
      "outputs": [
        {
          "output_type": "stream",
          "name": "stdout",
          "text": [
            "\u001b[1m1/1\u001b[0m \u001b[32m━━━━━━━━━━━━━━━━━━━━\u001b[0m\u001b[37m\u001b[0m \u001b[1m0s\u001b[0m 70ms/step\n"
          ]
        },
        {
          "output_type": "display_data",
          "data": {
            "text/plain": [
              "<Figure size 640x480 with 1 Axes>"
            ],
            "image/png": "[encoded data removed]"
          },
          "metadata": {}
        },
        {
          "output_type": "stream",
          "name": "stdout",
          "text": [
            "Predicted output: 510776\n"
          ]
        }
      ],
      "source": [
        "image_path = '/root/.cache/kagglehub/datasets/huthayfahodeb/captcha-dataset/versions/2/test-images/test-images/image_test_1015.png'\n",
        "prediction = predict_and_plot(image_path, model)\n",
        "print(\"Predicted output:\", prediction)"
      ]
    },
    {
      "cell_type": "code",
      "execution_count": null,
      "id": "ac866937",
      "metadata": {
        "execution": {
          "iopub.execute_input": "2024-12-30T11:19:41.002634Z",
          "iopub.status.busy": "2024-12-30T11:19:41.002313Z",
          "iopub.status.idle": "2024-12-30T11:19:41.208825Z",
          "shell.execute_reply": "2024-12-30T11:19:41.207682Z"
        },
        "papermill": {
          "duration": 0.479674,
          "end_time": "2024-12-30T11:19:41.212532",
          "exception": false,
          "start_time": "2024-12-30T11:19:40.732858",
          "status": "completed"
        },
        "tags": [],
        "colab": {
          "base_uri": "https://localhost:8080/",
          "height": 218
        },
        "id": "ac866937",
        "outputId": "17cb8709-a192-43a5-ffda-8d9864019fb9"
      },
      "outputs": [
        {
          "output_type": "stream",
          "name": "stdout",
          "text": [
            "\u001b[1m1/1\u001b[0m \u001b[32m━━━━━━━━━━━━━━━━━━━━\u001b[0m\u001b[37m\u001b[0m \u001b[1m0s\u001b[0m 40ms/step\n"
          ]
        },
        {
          "output_type": "display_data",
          "data": {
            "text/plain": [
              "<Figure size 640x480 with 1 Axes>"
            ],
            "image/png": "[encoded data removed]"
          },
          "metadata": {}
        },
        {
          "output_type": "stream",
          "name": "stdout",
          "text": [
            "Predicted output: 514439\n"
          ]
        }
      ],
      "source": [
        "image_path = '/root/.cache/kagglehub/datasets/huthayfahodeb/captcha-dataset/versions/2/test-images/test-images/image_test_1024.png'\n",
        "prediction = predict_and_plot(image_path, model)\n",
        "print(\"Predicted output:\", prediction)"
      ]
    },
    {
      "cell_type": "code",
      "execution_count": null,
      "id": "9d6e38ab",
      "metadata": {
        "execution": {
          "iopub.execute_input": "2024-12-30T11:19:41.762590Z",
          "iopub.status.busy": "2024-12-30T11:19:41.762273Z",
          "iopub.status.idle": "2024-12-30T11:19:41.911062Z",
          "shell.execute_reply": "2024-12-30T11:19:41.910072Z"
        },
        "papermill": {
          "duration": 0.424953,
          "end_time": "2024-12-30T11:19:41.915716",
          "exception": false,
          "start_time": "2024-12-30T11:19:41.490763",
          "status": "completed"
        },
        "tags": [],
        "colab": {
          "base_uri": "https://localhost:8080/"
        },
        "id": "9d6e38ab",
        "outputId": "de1ab4f6-c0c7-4632-f7a6-ba24405b151f"
      },
      "outputs": [
        {
          "output_type": "stream",
          "name": "stderr",
          "text": [
            "WARNING:absl:You are saving your model as an HDF5 file via `model.save()` or `keras.saving.save_model(model)`. This file format is considered legacy. We recommend using instead the native Keras format, e.g. `model.save('my_model.keras')` or `keras.saving.save_model(model, 'my_model.keras')`. \n"
          ]
        }
      ],
      "source": [
        "model.save('captcha_model.h5')"
      ]
    },
    {
      "cell_type": "code",
      "execution_count": null,
      "id": "ceb3131c",
      "metadata": {
        "papermill": {
          "duration": 0.343869,
          "end_time": "2024-12-30T11:19:42.596768",
          "exception": false,
          "start_time": "2024-12-30T11:19:42.252899",
          "status": "completed"
        },
        "tags": [],
        "id": "ceb3131c"
      },
      "outputs": [],
      "source": [
        "model.save_weights('captcha.weights.h5')"
      ]
    },
    {
      "cell_type": "code",
      "source": [
        "from google.colab import files\n",
        "files.download('captcha_model.h5')\n"
      ],
      "metadata": {
        "colab": {
          "base_uri": "https://localhost:8080/",
          "height": 17
        },
        "id": "Vcfokjw-um_Y",
        "outputId": "09e7fc82-c70c-406e-ce24-7b5bf96ce2e7"
      },
      "id": "Vcfokjw-um_Y",
      "execution_count": null,
      "outputs": [
        {
          "output_type": "display_data",
          "data": {
            "text/plain": [
              "<IPython.core.display.Javascript object>"
            ],
            "application/javascript": [
              "\n",
              "    async function download(id, filename, size) {\n",
              "      if (!google.colab.kernel.accessAllowed) {\n",
              "        return;\n",
              "      }\n",
              "      const div = document.createElement('div');\n",
              "      const label = document.createElement('label');\n",
              "      label.textContent = `Downloading \"${filename}\": `;\n",
              "      div.appendChild(label);\n",
              "      const progress = document.createElement('progress');\n",
              "      progress.max = size;\n",
              "      div.appendChild(progress);\n",
              "      document.body.appendChild(div);\n",
              "\n",
              "      const buffers = [];\n",
              "      let downloaded = 0;\n",
              "\n",
              "      const channel = await google.colab.kernel.comms.open(id);\n",
              "      // Send a message to notify the kernel that we're ready.\n",
              "      channel.send({})\n",
              "\n",
              "      for await (const message of channel.messages) {\n",
              "        // Send a message to notify the kernel that we're ready.\n",
              "        channel.send({})\n",
              "        if (message.buffers) {\n",
              "          for (const buffer of message.buffers) {\n",
              "            buffers.push(buffer);\n",
              "            downloaded += buffer.byteLength;\n",
              "            progress.value = downloaded;\n",
              "          }\n",
              "        }\n",
              "      }\n",
              "      const blob = new Blob(buffers, {type: 'application/binary'});\n",
              "      const a = document.createElement('a');\n",
              "      a.href = window.URL.createObjectURL(blob);\n",
              "      a.download = filename;\n",
              "      div.appendChild(a);\n",
              "      a.click();\n",
              "      div.remove();\n",
              "    }\n",
              "  "
            ]
          },
          "metadata": {}
        },
        {
          "output_type": "display_data",
          "data": {
            "text/plain": [
              "<IPython.core.display.Javascript object>"
            ],
            "application/javascript": [
              "download(\"download_565c45c8-428a-4c60-9cfe-2b8097519227\", \"captcha_model.h5\", 297420904)"
            ]
          },
          "metadata": {}
        }
      ]
    },
    {
      "cell_type": "code",
      "source": [
        "from google.colab import drive\n",
        "drive.mount('/content/drive')"
      ],
      "metadata": {
        "colab": {
          "base_uri": "https://localhost:8080/"
        },
        "id": "WJ1riuupw4Sk",
        "outputId": "39cd9b6b-ea38-4282-b767-0d3a12b73853"
      },
      "id": "WJ1riuupw4Sk",
      "execution_count": null,
      "outputs": [
        {
          "output_type": "stream",
          "name": "stdout",
          "text": [
            "Mounted at /content/drive\n"
          ]
        }
      ]
    },
    {
      "cell_type": "code",
      "source": [
        "model.save('/content/drive/MyDrive/captcha_model.h5')\n"
      ],
      "metadata": {
        "colab": {
          "base_uri": "https://localhost:8080/"
        },
        "id": "cVKj3k1a4e3d",
        "outputId": "38489f04-1400-46df-b8af-91b55e61a88c"
      },
      "id": "cVKj3k1a4e3d",
      "execution_count": null,
      "outputs": [
        {
          "output_type": "stream",
          "name": "stderr",
          "text": [
            "WARNING:absl:You are saving your model as an HDF5 file via `model.save()` or `keras.saving.save_model(model)`. This file format is considered legacy. We recommend using instead the native Keras format, e.g. `model.save('my_model.keras')` or `keras.saving.save_model(model, 'my_model.keras')`. \n"
          ]
        }
      ]
    },
    {
      "cell_type": "code",
      "source": [
        "model.save('/content/drive/MyDrive/captcha_weights.h5')\n"
      ],
      "metadata": {
        "colab": {
          "base_uri": "https://localhost:8080/"
        },
        "id": "z7ily7SL5ALR",
        "outputId": "c804ea9c-180e-427a-c48a-680926ebc299"
      },
      "id": "z7ily7SL5ALR",
      "execution_count": null,
      "outputs": [
        {
          "output_type": "stream",
          "name": "stderr",
          "text": [
            "WARNING:absl:You are saving your model as an HDF5 file via `model.save()` or `keras.saving.save_model(model)`. This file format is considered legacy. We recommend using instead the native Keras format, e.g. `model.save('my_model.keras')` or `keras.saving.save_model(model, 'my_model.keras')`. \n"
          ]
        }
      ]
    },
    {
      "cell_type": "code",
      "source": [
        "from tensorflow.keras.models import load_model\n",
        "\n",
        "model = load_model('/root/.cache/kagglehub/datasets/huthayfahodeb/captcha-dataset/versions/2/validation-images/captcha_model.h5', compile=False)"
      ],
      "metadata": {
        "id": "23-Hdaj-5Hlj"
      },
      "id": "23-Hdaj-5Hlj",
      "execution_count": null,
      "outputs": []
    },
    {
      "cell_type": "code",
      "source": [
        "image_path = '/root/.cache/kagglehub/datasets/huthayfahodeb/captcha-dataset/versions/2/validation-images/validation-images/image_validation_1061.png'\n",
        "prediction = predict_and_plot(image_path, model)\n",
        "print(\"Predicted output:\", prediction)"
      ],
      "metadata": {
        "colab": {
          "base_uri": "https://localhost:8080/",
          "height": 218
        },
        "id": "NyfvVS7rDqP0",
        "outputId": "dd81ef0d-d392-4fc9-d337-c2682c07bd43"
      },
      "id": "NyfvVS7rDqP0",
      "execution_count": null,
      "outputs": [
        {
          "output_type": "stream",
          "name": "stdout",
          "text": [
            "\u001b[1m1/1\u001b[0m \u001b[32m━━━━━━━━━━━━━━━━━━━━\u001b[0m\u001b[37m\u001b[0m \u001b[1m0s\u001b[0m 41ms/step\n"
          ]
        },
        {
          "output_type": "display_data",
          "data": {
            "text/plain": [
              "<Figure size 640x480 with 1 Axes>"
            ],
            "image/png": "[encoded data removed]"
          },
          "metadata": {}
        },
        {
          "output_type": "stream",
          "name": "stdout",
          "text": [
            "Predicted output: 540069\n"
          ]
        }
      ]
    },
    {
      "cell_type": "code",
      "source": [],
      "metadata": {
        "colab": {
          "base_uri": "https://localhost:8080/"
        },
        "id": "-PLuZvMpF30A",
        "outputId": "b129305c-ade5-4b54-93f4-e3a45ec5dde4"
      },
      "id": "-PLuZvMpF30A",
      "execution_count": null,
      "outputs": [
        {
          "output_type": "stream",
          "name": "stdout",
          "text": [
            " * Serving Flask app '__main__'\n",
            " * Debug mode: on\n"
          ]
        },
        {
          "output_type": "stream",
          "name": "stderr",
          "text": [
            "INFO:werkzeug:\u001b[31m\u001b[1mWARNING: This is a development server. Do not use it in a production deployment. Use a production WSGI server instead.\u001b[0m\n",
            " * Running on all addresses (0.0.0.0)\n",
            " * Running on http://127.0.0.1:5000\n",
            " * Running on http://172.28.0.12:5000\n",
            "INFO:werkzeug:\u001b[33mPress CTRL+C to quit\u001b[0m\n",
            "INFO:werkzeug: * Restarting with stat\n"
          ]
        }
      ]
    },
    {
      "cell_type": "code",
      "source": [],
      "metadata": {
        "id": "VxsYfuTxi-Ch"
      },
      "id": "VxsYfuTxi-Ch",
      "execution_count": null,
      "outputs": []
    }
  ],
  "metadata": {
    "kaggle": {
      "accelerator": "none",
      "dataSources": [
        {
          "datasetId": 6393583,
          "sourceId": 10326066,
          "sourceType": "datasetVersion"
        }
      ],
      "dockerImageVersionId": 30823,
      "isGpuEnabled": false,
      "isInternetEnabled": true,
      "language": "python",
      "sourceType": "notebook"
    },
    "kernelspec": {
      "display_name": "Python 3",
      "name": "python3"
    },
    "language_info": {
      "codemirror_mode": {
        "name": "ipython",
        "version": 3
      },
      "file_extension": ".py",
      "mimetype": "text/x-python",
      "name": "python",
      "nbconvert_exporter": "python",
      "pygments_lexer": "ipython3",
      "version": "3.10.12"
    },
    "papermill": {
      "default_parameters": {},
      "duration": 551.060697,
      "end_time": "2024-12-30T11:19:46.198970",
      "environment_variables": {},
      "exception": null,
      "input_path": "__notebook__.ipynb",
      "output_path": "__notebook__.ipynb",
      "parameters": {},
      "start_time": "2024-12-30T11:10:35.138273",
      "version": "2.6.0"
    },
    "colab": {
      "provenance": [],
      "gpuType": "T4"
    },
    "accelerator": "GPU"
  },
  "nbformat": 4,
  "nbformat_minor": 5
}